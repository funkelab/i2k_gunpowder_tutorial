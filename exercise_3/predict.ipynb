{
 "cells": [
  {
   "cell_type": "code",
   "execution_count": null,
   "metadata": {},
   "outputs": [],
   "source": [
    "from funlib.learn.torch.models import UNet, ConvPass\n",
    "import gunpowder as gp\n",
    "import logging\n",
    "import numpy as np\n",
    "import torch\n",
    "import zarr\n",
    "\n",
    "logging.basicConfig(level=logging.INFO)\n",
    "\n",
    "checkpoint = 100000\n",
    "predict_roi = gp.Roi((250, 2000, 500, 500), (1, 160, 1000, 1000))\n",
    "\n",
    "raw = gp.ArrayKey(\"RAW\")\n",
    "prediction = gp.ArrayKey(\"PREDICTION\")\n",
    "\n",
    "input_shape = (7, 64, 124, 124)\n",
    "output_shape = (1, 32, 32, 32)\n",
    "\n",
    "unet = UNet(\n",
    "    in_channels=7,\n",
    "    num_fmaps=12,\n",
    "    fmap_inc_factor=5,\n",
    "    downsample_factors=[\n",
    "        (1, 2, 2),\n",
    "        (1, 2, 2),\n",
    "        (2, 2, 2)],\n",
    "    constant_upsample=True,\n",
    "    padding='valid')\n",
    "model = torch.nn.Sequential(\n",
    "    unet,\n",
    "    ConvPass(12, 1, [(1, 1, 1)], activation=None),\n",
    "    torch.nn.Sigmoid()\n",
    ")\n",
    "model.eval()\n",
    "\n",
    "raw_source = gp.ZarrSource(\n",
    "    '../data/mouse.n5',\n",
    "    {raw: 'volumes/raw'},\n",
    "    {raw: gp.ArraySpec(interpolatable=True)}\n",
    ")\n",
    "\n",
    "with gp.build(raw_source):\n",
    "    print(raw_source)\n",
    "    voxel_size = raw_source.spec[raw].voxel_size\n",
    "\n",
    "input_size = voxel_size*input_shape\n",
    "output_size = voxel_size*output_shape\n",
    "\n",
    "# TODO: create a predict pipeline and create a prediction for predict_roi!"
   ]
  }
 ],
 "metadata": {
  "kernelspec": {
   "display_name": "Python 3",
   "language": "python",
   "name": "python3"
  },
  "language_info": {
   "codemirror_mode": {
    "name": "ipython",
    "version": 3
   },
   "file_extension": ".py",
   "mimetype": "text/x-python",
   "name": "python",
   "nbconvert_exporter": "python",
   "pygments_lexer": "ipython3",
   "version": "3.8.5"
  }
 },
 "nbformat": 4,
 "nbformat_minor": 4
}
