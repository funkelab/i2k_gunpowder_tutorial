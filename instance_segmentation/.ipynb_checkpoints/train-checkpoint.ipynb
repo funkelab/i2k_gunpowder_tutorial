{
 "cells": [
  {
   "cell_type": "code",
   "execution_count": null,
   "metadata": {},
   "outputs": [],
   "source": [
    "import gunpowder as gp\n",
    "\n",
    "import torch\n",
    "from omegaconf import OmegaConf\n",
    "\n",
    "import logging\n",
    "\n",
    "from model import AffinitiesUnet\n",
    "from model_config import ModelConf\n",
    "from train_pipeline import train_pipeline\n",
    "\n",
    "logging.basicConfig(filename=\"log.out\", level=logging.INFO)\n",
    "\n",
    "# Constants\n",
    "num_iterations = 1_000\n",
    "config_file = \"model_configs/test.yaml\"\n",
    "\n",
    "# load config\n",
    "overrides = OmegaConf.load(config_file)\n",
    "model_config: ModelConf = OmegaConf.structured(ModelConf(**overrides))\n",
    "OmegaConf.set_struct(model_config, True)\n",
    "\n",
    "# initialize model\n",
    "model = AffinitiesUnet(model_config)\n",
    "\n",
    "# get pipeline\n",
    "pipeline, request = train_pipeline(model)\n",
    "\n",
    "torch.backends.cudnn.enabled = True\n",
    "torch.backends.cudnn.benchmark = True\n",
    "\n",
    "# main loop\n",
    "if __name__ == \"__main__\":\n",
    "    with gp.build(pipeline):\n",
    "        for i in range(num_iterations):\n",
    "            batch = pipeline.request_batch(request)\n"
   ]
  }
 ],
 "metadata": {
  "kernelspec": {
   "display_name": "Python 3",
   "language": "python",
   "name": "python3"
  },
  "language_info": {
   "codemirror_mode": {
    "name": "ipython",
    "version": 3
   },
   "file_extension": ".py",
   "mimetype": "text/x-python",
   "name": "python",
   "nbconvert_exporter": "python",
   "pygments_lexer": "ipython3",
   "version": "3.8.5"
  }
 },
 "nbformat": 4,
 "nbformat_minor": 4
}
