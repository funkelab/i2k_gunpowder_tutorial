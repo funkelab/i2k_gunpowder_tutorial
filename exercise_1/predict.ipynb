{
 "cells": [
  {
   "cell_type": "markdown",
   "metadata": {},
   "source": [
    "## Please download a pre trained model from\n",
    "`https://www.dropbox.com/s/tir8ob3q67p79fj/precomputed_model_checkpoint?dl=0`"
   ]
  },
  {
   "cell_type": "code",
   "execution_count": 1,
   "metadata": {},
   "outputs": [],
   "source": [
    "import gunpowder as gp\n",
    "from funlib.learn.torch.models import UNet\n",
    "\n",
    "import zarr\n",
    "import numpy as np\n",
    "import torch\n",
    "\n",
    "import logging"
   ]
  },
  {
   "cell_type": "code",
   "execution_count": 2,
   "metadata": {},
   "outputs": [],
   "source": [
    "logging.basicConfig(level=logging.INFO)\n",
    "# Constants\n",
    "checkpoint = \"precomputed_model_checkpoint\"\n",
    "grow = (36, 36, 36)\n",
    "voxel_size = gp.Coordinate((4, 4, 4))\n",
    "input_shape = gp.Coordinate((76, 76, 76)) + grow\n",
    "input_size = input_shape * voxel_size\n",
    "output_shape = gp.Coordinate((36, 36, 36)) + grow\n",
    "output_size = output_shape * voxel_size\n",
    "context = (input_size - output_size) / 2"
   ]
  },
  {
   "cell_type": "code",
   "execution_count": 3,
   "metadata": {},
   "outputs": [
    {
     "data": {
      "text/plain": [
       "Sequential(\n",
       "  (0): UNet(\n",
       "    (l_conv): ModuleList(\n",
       "      (0): ConvPass(\n",
       "        (conv_pass): Sequential(\n",
       "          (0): Conv3d(1, 16, kernel_size=(3, 3, 3), stride=(1, 1, 1))\n",
       "          (1): ReLU()\n",
       "          (2): Conv3d(16, 16, kernel_size=(3, 3, 3), stride=(1, 1, 1))\n",
       "          (3): ReLU()\n",
       "        )\n",
       "      )\n",
       "      (1): ConvPass(\n",
       "        (conv_pass): Sequential(\n",
       "          (0): Conv3d(16, 80, kernel_size=(3, 3, 3), stride=(1, 1, 1))\n",
       "          (1): ReLU()\n",
       "          (2): Conv3d(80, 80, kernel_size=(3, 3, 3), stride=(1, 1, 1))\n",
       "          (3): ReLU()\n",
       "        )\n",
       "      )\n",
       "      (2): ConvPass(\n",
       "        (conv_pass): Sequential(\n",
       "          (0): Conv3d(80, 400, kernel_size=(3, 3, 3), stride=(1, 1, 1))\n",
       "          (1): ReLU()\n",
       "          (2): Conv3d(400, 400, kernel_size=(3, 3, 3), stride=(1, 1, 1))\n",
       "          (3): ReLU()\n",
       "        )\n",
       "      )\n",
       "    )\n",
       "    (l_down): ModuleList(\n",
       "      (0): Downsample(\n",
       "        (down): MaxPool3d(kernel_size=(2, 2, 2), stride=(2, 2, 2), padding=0, dilation=1, ceil_mode=False)\n",
       "      )\n",
       "      (1): Downsample(\n",
       "        (down): MaxPool3d(kernel_size=(2, 2, 2), stride=(2, 2, 2), padding=0, dilation=1, ceil_mode=False)\n",
       "      )\n",
       "    )\n",
       "    (r_up): ModuleList(\n",
       "      (0): ModuleList(\n",
       "        (0): Upsample(\n",
       "          (up): Upsample(scale_factor=(2.0, 2.0, 2.0), mode=nearest)\n",
       "        )\n",
       "        (1): Upsample(\n",
       "          (up): Upsample(scale_factor=(2.0, 2.0, 2.0), mode=nearest)\n",
       "        )\n",
       "      )\n",
       "    )\n",
       "    (r_conv): ModuleList(\n",
       "      (0): ModuleList(\n",
       "        (0): ConvPass(\n",
       "          (conv_pass): Sequential(\n",
       "            (0): Conv3d(96, 16, kernel_size=(3, 3, 3), stride=(1, 1, 1))\n",
       "            (1): ReLU()\n",
       "            (2): Conv3d(16, 16, kernel_size=(3, 3, 3), stride=(1, 1, 1))\n",
       "            (3): ReLU()\n",
       "          )\n",
       "        )\n",
       "        (1): ConvPass(\n",
       "          (conv_pass): Sequential(\n",
       "            (0): Conv3d(480, 80, kernel_size=(3, 3, 3), stride=(1, 1, 1))\n",
       "            (1): ReLU()\n",
       "            (2): Conv3d(80, 80, kernel_size=(3, 3, 3), stride=(1, 1, 1))\n",
       "            (3): ReLU()\n",
       "          )\n",
       "        )\n",
       "      )\n",
       "    )\n",
       "  )\n",
       "  (1): Conv3d(16, 4, kernel_size=(1, 1, 1), stride=(1, 1, 1))\n",
       "  (2): Softmax(dim=None)\n",
       ")"
      ]
     },
     "execution_count": 3,
     "metadata": {},
     "output_type": "execute_result"
    }
   ],
   "source": [
    "# initialize model\n",
    "unet = UNet(\n",
    "    in_channels=1,\n",
    "    num_fmaps=16,\n",
    "    fmap_inc_factor=5,\n",
    "    downsample_factors=[(2, 2, 2), (2, 2, 2)],\n",
    "    activation=\"ReLU\",\n",
    "    voxel_size=voxel_size,\n",
    "    num_heads=1,\n",
    "    constant_upsample=True,\n",
    ")\n",
    "logits = torch.nn.Conv3d(16, 4, (1,) * 3)\n",
    "probs = torch.nn.Softmax()\n",
    "\n",
    "semantic_model = torch.nn.Sequential(unet, logits, probs)\n",
    "semantic_model.eval()"
   ]
  },
  {
   "cell_type": "code",
   "execution_count": 4,
   "metadata": {},
   "outputs": [],
   "source": [
    "raw = gp.ArrayKey(\"RAW\")\n",
    "predictions = gp.ArrayKey(\"PREDICTIONS\")\n",
    "\n",
    "reference_request = gp.BatchRequest()\n",
    "reference_request.add(raw, input_size)\n",
    "reference_request.add(predictions, output_size)\n",
    "\n",
    "source = gp.ZarrSource(\n",
    "    filename=\"../data/MB-Z1213-56.zarr\",\n",
    "    datasets={\n",
    "        raw: \"TEST/raw\",\n",
    "    },\n",
    "    array_specs={\n",
    "        raw: gp.ArraySpec(interpolatable=True)\n",
    "    }\n",
    ")"
   ]
  },
  {
   "cell_type": "code",
   "execution_count": 5,
   "metadata": {},
   "outputs": [
    {
     "name": "stderr",
     "output_type": "stream",
     "text": [
      "INFO:daisy.datasets:Reusing existing dataset\n"
     ]
    },
    {
     "data": {
      "text/plain": [
       "<daisy.array.Array at 0x7fa8249f5880>"
      ]
     },
     "execution_count": 5,
     "metadata": {},
     "output_type": "execute_result"
    }
   ],
   "source": [
    "with gp.build(source):\n",
    "    total_input_roi = source.spec[raw].roi\n",
    "total_output_roi = total_input_roi.grow(-context, -context)\n",
    "\n",
    "f = zarr.open(f'predictions.zarr', 'w')\n",
    "ds = f.create_dataset(\n",
    "    \"volumes/predictions\",\n",
    "    shape=total_output_roi.get_shape()/voxel_size,\n",
    "    chunks=output_shape, dtype=np.float32)\n",
    "ds.attrs['offset'] = total_output_roi.get_begin()\n",
    "ds.attrs['resolution'] = voxel_size"
   ]
  },
  {
   "cell_type": "code",
   "execution_count": 6,
   "metadata": {},
   "outputs": [],
   "source": [
    "pipeline = (\n",
    "    source\n",
    "    + gp.Normalize(raw)\n",
    "    + gp.Unsqueeze([raw])\n",
    "    + gp.Unsqueeze([raw])\n",
    "    + gp.torch.Predict(\n",
    "        model=semantic_model,\n",
    "        inputs={\"input\": raw},\n",
    "        outputs={0: predictions},\n",
    "        checkpoint=checkpoint,\n",
    "    )\n",
    "    + gp.Squeeze([raw, predictions])\n",
    "    + gp.Squeeze([raw])\n",
    "    + gp.ZarrWrite(\n",
    "        output_dir=\"./\",\n",
    "        output_filename=\"predictions.zarr\",\n",
    "        dataset_names={\n",
    "            raw: \"volumes/raw\",\n",
    "            predictions: \"volumes/predictions\",\n",
    "        },\n",
    "        dataset_dtypes={predictions: gp.ArraySpec(roi=total_output_roi)},\n",
    "    )\n",
    "    + gp.Scan(reference_request, num_workers=3)\n",
    ")\n",
    "\n",
    "request = gp.BatchRequest()\n",
    "request[raw] = gp.ArraySpec(roi=total_input_roi)\n",
    "request[predictions] = gp.ArraySpec(roi=total_output_roi)"
   ]
  },
  {
   "cell_type": "code",
   "execution_count": 7,
   "metadata": {
    "scrolled": true
   },
   "outputs": [
    {
     "name": "stderr",
     "output_type": "stream",
     "text": [
      "INFO:gunpowder.nodes.scan:scanning over 125 chunks\n",
      "  0%|          | 0/125 [00:00<?, ?it/s]INFO:gunpowder.torch.nodes.predict:Predicting on gpu\n",
      "INFO:gunpowder.torch.nodes.predict:Predicting on gpu\n",
      "INFO:gunpowder.torch.nodes.predict:Predicting on gpu\n",
      "/groups/mousebrainmicro/home/pattonw/anaconda3/envs/i2k_gunpowder/lib/python3.8/site-packages/torch/nn/modules/container.py:117: UserWarning: Implicit dimension choice for softmax has been deprecated. Change the call to include dim=X as an argument.\n",
      "  input = module(input)\n",
      "/groups/mousebrainmicro/home/pattonw/anaconda3/envs/i2k_gunpowder/lib/python3.8/site-packages/torch/nn/modules/container.py:117: UserWarning: Implicit dimension choice for softmax has been deprecated. Change the call to include dim=X as an argument.\n",
      "  input = module(input)\n",
      "/groups/mousebrainmicro/home/pattonw/anaconda3/envs/i2k_gunpowder/lib/python3.8/site-packages/torch/nn/modules/container.py:117: UserWarning: Implicit dimension choice for softmax has been deprecated. Change the call to include dim=X as an argument.\n",
      "  input = module(input)\n",
      "INFO:gunpowder.nodes.scan:allocating array of shape (400, 400, 400) for RAW\n",
      "INFO:gunpowder.nodes.scan:allocating array of shape (4, 360, 360, 360) for PREDICTIONS\n",
      "100%|██████████| 125/125 [01:31<00:00,  1.37it/s]INFO:gunpowder.producer_pool:terminating workers...\n",
      "INFO:gunpowder.producer_pool:joining workers...\n",
      "\n",
      "INFO:gunpowder.producer_pool:done\n"
     ]
    }
   ],
   "source": [
    "with gp.build(pipeline):\n",
    "    pipeline.request_batch(request)"
   ]
  },
  {
   "cell_type": "code",
   "execution_count": 8,
   "metadata": {},
   "outputs": [],
   "source": [
    "# Post processing\n",
    "results_zarr = zarr.open(f\"predictions.zarr\", \"r+\")\n",
    "results = results_zarr[\"volumes/predictions\"]\n",
    "\n",
    "semantic_segmentation = np.argmax(results, axis=0)\n",
    "\n",
    "results_zarr[\"volumes/semantic_segmentation\"] = semantic_segmentation\n",
    "results_zarr[\"volumes/semantic_segmentation\"].attrs[\"offset\"] = total_output_roi.get_offset()\n",
    "results_zarr[\"volumes/semantic_segmentation\"].attrs[\"resolution\"] = voxel_size\n"
   ]
  },
  {
   "cell_type": "code",
   "execution_count": null,
   "metadata": {},
   "outputs": [],
   "source": []
  }
 ],
 "metadata": {
  "kernelspec": {
   "display_name": "Python 3",
   "language": "python",
   "name": "python3"
  },
  "language_info": {
   "codemirror_mode": {
    "name": "ipython",
    "version": 3
   },
   "file_extension": ".py",
   "mimetype": "text/x-python",
   "name": "python",
   "nbconvert_exporter": "python",
   "pygments_lexer": "ipython3",
   "version": "3.8.5"
  }
 },
 "nbformat": 4,
 "nbformat_minor": 4
}
