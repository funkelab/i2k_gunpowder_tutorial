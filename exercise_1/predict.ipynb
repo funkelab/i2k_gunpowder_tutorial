{
 "cells": [
  {
   "cell_type": "markdown",
   "metadata": {},
   "source": [
    "## Please download a pre trained model from\n",
    "`https://www.dropbox.com/s/tir8ob3q67p79fj/precomputed_model_checkpoint?dl=0`"
   ]
  },
  {
   "cell_type": "code",
   "execution_count": 1,
   "metadata": {},
   "outputs": [],
   "source": [
    "import gunpowder as gp\n",
    "from funlib.learn.torch.models import UNet\n",
    "\n",
    "import zarr\n",
    "import numpy as np\n",
    "import torch\n",
    "\n",
    "import logging"
   ]
  },
  {
   "cell_type": "code",
   "execution_count": 2,
   "metadata": {},
   "outputs": [],
   "source": [
    "logging.basicConfig(level=logging.INFO)\n",
    "# Constants\n",
    "checkpoint = \"precomputed_model_checkpoint\"\n",
    "grow = (36, 36, 36)\n",
    "voxel_size = gp.Coordinate((4, 4, 4))\n",
    "input_shape = gp.Coordinate((76, 76, 76)) + grow\n",
    "input_size = # calculate the input size here\n",
    "output_shape = gp.Coordinate((36, 36, 36)) + grow\n",
    "output_size = # calculate the output size here\n",
    "context = (input_size - output_size) / 2"
   ]
  },
  {
   "cell_type": "code",
   "execution_count": 3,
   "metadata": {},
   "outputs": [],
   "source": [
    "# initialize model\n",
    "unet = UNet(\n",
    "    in_channels=1,\n",
    "    num_fmaps=16,\n",
    "    fmap_inc_factor=5,\n",
    "    downsample_factors=[(2, 2, 2), (2, 2, 2)],\n",
    "    activation=\"ReLU\",\n",
    "    voxel_size=voxel_size,\n",
    "    num_heads=1,\n",
    "    constant_upsample=True,\n",
    ")\n",
    "logits = torch.nn.Conv3d(16, 4, (1,) * 3)\n",
    "# add an operation to get probabilities (torch.nn.Softmax)\n",
    "\n",
    "# build your semantic segmentation model here to get probabilities\n",
    "semantic_model.eval()"
   ]
  },
  {
   "cell_type": "code",
   "execution_count": 4,
   "metadata": {},
   "outputs": [],
   "source": [
    "raw = gp.ArrayKey(\"RAW\")\n",
    "predictions = gp.ArrayKey(\"PREDICTIONS\")\n",
    "\n",
    "reference_request = gp.BatchRequest()\n",
    "reference_request.add(raw, input_size)\n",
    "reference_request.add(predictions, output_size)\n",
    "\n",
    "source = gp.ZarrSource(\n",
    "    filename=\"../data/MB-Z1213-56.zarr\",\n",
    "    datasets={\n",
    "        raw: \"TEST/raw\",\n",
    "    },\n",
    "    array_specs={\n",
    "        raw: gp.ArraySpec(interpolatable=True)\n",
    "    }\n",
    ")"
   ]
  },
  {
   "cell_type": "code",
   "execution_count": 5,
   "metadata": {},
   "outputs": [],
   "source": [
    "with gp.build(source):\n",
    "    total_input_roi = source.spec[raw].roi\n",
    "total_output_roi = total_input_roi.grow(-context, -context)\n",
    "\n",
    "zarr_container = zarr.open(\"predictions.zarr\")\n",
    "zarr_container.create_dataset(\n",
    "    \"volumes/predictions\",\n",
    "    data=np.zeros((4, *total_output_roi.get_shape()/voxel_size)),\n",
    "    chunks=(4, *output_size)\n",
    ")"
   ]
  },
  {
   "cell_type": "code",
   "execution_count": 6,
   "metadata": {},
   "outputs": [],
   "source": [
    "pipeline = (\n",
    "    source\n",
    "    + gp.Normalize(raw)\n",
    "    + gp.Unsqueeze([raw])\n",
    "    + gp.Unsqueeze([raw])\n",
    "    + gp.torch.Predict(\n",
    "        model=semantic_model,\n",
    "        inputs={\"input\": raw},\n",
    "        outputs={0: predictions},\n",
    "        checkpoint=checkpoint,\n",
    "    )\n",
    "    + gp.Squeeze([raw, predictions])\n",
    "    + gp.Squeeze([raw])\n",
    "    + gp.ZarrWrite(\n",
    "        output_dir=\"./\",\n",
    "        output_filename=\"predictions.zarr\",\n",
    "        dataset_names={\n",
    "            raw: \"volumes/raw\",\n",
    "            predictions: \"volumes/predictions\",\n",
    "        },\n",
    "        dataset_dtypes={predictions: gp.ArraySpec(roi=total_output_roi)},\n",
    "    )\n",
    "    # Use the scan node to apply the torch model blockwise\n",
    ")\n",
    "\n",
    "request = gp.BatchRequest()\n",
    "request[raw] = gp.ArraySpec(roi=total_input_roi)\n",
    "request[predictions] = gp.ArraySpec(roi=total_output_roi)"
   ]
  },
  {
   "cell_type": "code",
   "execution_count": 7,
   "metadata": {
    "scrolled": true
   },
   "outputs": [],
   "source": [
    "with gp.build(pipeline):\n",
    "    pipeline.request_batch(request)"
   ]
  },
  {
   "cell_type": "code",
   "execution_count": 8,
   "metadata": {},
   "outputs": [],
   "source": [
    "# Post processing\n",
    "results_zarr = zarr.open(f\"predictions.zarr\", \"r+\")\n",
    "results = results_zarr[\"volumes/predictions\"]\n",
    "\n",
    "semantic_segmentation = np.argmax(results, axis=0)\n",
    "\n",
    "results_zarr[\"volumes/semantic_segmentation\"] = semantic_segmentation\n",
    "results_zarr[\"volumes/semantic_segmentation\"].attrs[\"offset\"] = total_output_roi.get_offset()\n",
    "results_zarr[\"volumes/semantic_segmentation\"].attrs[\"resolution\"] = voxel_size\n"
   ]
  },
  {
   "cell_type": "code",
   "execution_count": null,
   "metadata": {},
   "outputs": [],
   "source": []
  }
 ],
 "metadata": {
  "kernelspec": {
   "display_name": "Python 3",
   "language": "python",
   "name": "python3"
  },
  "language_info": {
   "codemirror_mode": {
    "name": "ipython",
    "version": 3
   },
   "file_extension": ".py",
   "mimetype": "text/x-python",
   "name": "python",
   "nbconvert_exporter": "python",
   "pygments_lexer": "ipython3",
   "version": "3.8.5"
  }
 },
 "nbformat": 4,
 "nbformat_minor": 4
}