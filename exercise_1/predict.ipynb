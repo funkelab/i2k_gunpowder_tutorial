{
 "cells": [
  {
   "cell_type": "markdown",
   "metadata": {},
   "source": [
    "## Please download a pre trained model from\n",
    "`https://www.dropbox.com/s/tir8ob3q67p79fj/precomputed_model_checkpoint?dl=0`"
   ]
  },
  {
   "cell_type": "code",
   "execution_count": 3,
   "metadata": {},
   "outputs": [],
   "source": [
    "import gunpowder as gp\n",
    "from funlib.learn.torch.models import UNet\n",
    "\n",
    "import zarr\n",
    "import numpy as np\n",
    "import torch\n",
    "\n",
    "import logging"
   ]
  },
  {
   "cell_type": "code",
   "execution_count": 6,
   "metadata": {},
   "outputs": [],
   "source": [
    "logging.basicConfig(level=logging.INFO)\n",
    "# Constants\n",
    "checkpoint = \"precomputed_model_checkpoint\"\n",
    "grow = (36, 36, 36)\n",
    "voxel_size = gp.Coordinate((4, 4, 4))\n",
    "input_shape = gp.Coordinate((76, 76, 76)) + grow\n",
    "input_size = input_shape * voxel_size\n",
    "output_shape = gp.Coordinate((36, 36, 36)) + grow\n",
    "output_size = output_shape * voxel_size\n",
    "context = (input_size - output_size) / 2"
   ]
  },
  {
   "cell_type": "code",
   "execution_count": 3,
   "metadata": {},
   "outputs": [],
   "source": [
    "# adapt the training model to output probabilities rather than logprobabilities\n",
    "semantic_model.eval()"
   ]
  },
  {
   "cell_type": "code",
   "execution_count": 7,
   "metadata": {},
   "outputs": [],
   "source": [
    "raw = gp.ArrayKey(\"RAW\")\n",
    "predictions = gp.ArrayKey(\"PREDICTIONS\")\n",
    "\n",
    "reference_request = gp.BatchRequest()\n",
    "reference_request.add(raw, input_size)\n",
    "reference_request.add(predictions, output_size)\n",
    "\n",
    "# Create your ZarrSource"
   ]
  },
  {
   "cell_type": "code",
   "execution_count": 10,
   "metadata": {},
   "outputs": [
    {
     "data": {
      "text/plain": [
       "<zarr.core.Array '/volumes/predictions' (4, 360, 360, 360) float64>"
      ]
     },
     "execution_count": 10,
     "metadata": {},
     "output_type": "execute_result"
    }
   ],
   "source": [
    "with gp.build(source):\n",
    "    total_input_roi = source.spec[raw].roi\n",
    "total_output_roi = total_input_roi.grow(-context, -context)\n",
    "\n",
    "zarr_container = zarr.open(\"predictions.zarr\")\n",
    "zarr_container.create_dataset(\n",
    "    \"volumes/predictions\",\n",
    "    data=np.zeros((4, *total_output_roi.get_shape()/voxel_size)),\n",
    "    chunks=(4, *output_size)\n",
    ")"
   ]
  },
  {
   "cell_type": "code",
   "execution_count": 11,
   "metadata": {},
   "outputs": [
    {
     "ename": "NameError",
     "evalue": "name 'semantic_model' is not defined",
     "output_type": "error",
     "traceback": [
      "\u001b[0;31m---------------------------------------------------------------------------\u001b[0m",
      "\u001b[0;31mNameError\u001b[0m                                 Traceback (most recent call last)",
      "\u001b[0;32m<ipython-input-11-2e7d00461984>\u001b[0m in \u001b[0;36m<module>\u001b[0;34m\u001b[0m\n\u001b[1;32m      3\u001b[0m     \u001b[0;31m# make sure your data is normalized and has both a batch and a channel dimension\u001b[0m\u001b[0;34m\u001b[0m\u001b[0;34m\u001b[0m\u001b[0;34m\u001b[0m\u001b[0m\n\u001b[1;32m      4\u001b[0m     + gp.torch.Predict(\n\u001b[0;32m----> 5\u001b[0;31m         \u001b[0mmodel\u001b[0m\u001b[0;34m=\u001b[0m\u001b[0msemantic_model\u001b[0m\u001b[0;34m,\u001b[0m\u001b[0;34m\u001b[0m\u001b[0;34m\u001b[0m\u001b[0m\n\u001b[0m\u001b[1;32m      6\u001b[0m         \u001b[0minputs\u001b[0m\u001b[0;34m=\u001b[0m\u001b[0;34m{\u001b[0m\u001b[0;34m\"input\"\u001b[0m\u001b[0;34m:\u001b[0m \u001b[0mraw\u001b[0m\u001b[0;34m}\u001b[0m\u001b[0;34m,\u001b[0m\u001b[0;34m\u001b[0m\u001b[0;34m\u001b[0m\u001b[0m\n\u001b[1;32m      7\u001b[0m         \u001b[0moutputs\u001b[0m\u001b[0;34m=\u001b[0m\u001b[0;34m{\u001b[0m\u001b[0;36m0\u001b[0m\u001b[0;34m:\u001b[0m \u001b[0mpredictions\u001b[0m\u001b[0;34m}\u001b[0m\u001b[0;34m,\u001b[0m\u001b[0;34m\u001b[0m\u001b[0;34m\u001b[0m\u001b[0m\n",
      "\u001b[0;31mNameError\u001b[0m: name 'semantic_model' is not defined"
     ]
    }
   ],
   "source": [
    "pipeline = (\n",
    "    source\n",
    "    # make sure your data is normalized and has both a batch and a channel dimension\n",
    "    + gp.torch.Predict(\n",
    "        model=semantic_model,\n",
    "        inputs={\"input\": raw},\n",
    "        outputs={0: predictions},\n",
    "        checkpoint=checkpoint,\n",
    "    )\n",
    "    # make sure you remove the unneeded batch/channel dimensions\n",
    "    + gp.ZarrWrite(\n",
    "        output_dir=\"./\",\n",
    "        output_filename=\"predictions.zarr\",\n",
    "        dataset_names={\n",
    "            raw: \"volumes/raw\",\n",
    "            predictions: \"volumes/predictions\",\n",
    "        },\n",
    "        dataset_dtypes={predictions: gp.ArraySpec(roi=total_output_roi)},\n",
    "    )\n",
    "    # Add a scan node to predict accross the whole volume\n",
    ")\n",
    "\n",
    "request = gp.BatchRequest()\n",
    "request[raw] = gp.ArraySpec(roi=total_input_roi)\n",
    "request[predictions] = gp.ArraySpec(roi=total_output_roi)"
   ]
  },
  {
   "cell_type": "code",
   "execution_count": 7,
   "metadata": {
    "scrolled": true
   },
   "outputs": [],
   "source": [
    "with gp.build(pipeline):\n",
    "    pipeline.request_batch(request)"
   ]
  },
  {
   "cell_type": "code",
   "execution_count": 8,
   "metadata": {},
   "outputs": [],
   "source": [
    "# Post processing\n",
    "results_zarr = zarr.open(f\"predictions.zarr\", \"r+\")\n",
    "results = results_zarr[\"volumes/predictions\"]\n",
    "\n",
    "semantic_segmentation = np.argmax(results, axis=0)\n",
    "\n",
    "results_zarr[\"volumes/semantic_segmentation\"] = semantic_segmentation\n",
    "results_zarr[\"volumes/semantic_segmentation\"].attrs[\"offset\"] = total_output_roi.get_offset()\n",
    "results_zarr[\"volumes/semantic_segmentation\"].attrs[\"resolution\"] = voxel_size\n"
   ]
  },
  {
   "cell_type": "code",
   "execution_count": null,
   "metadata": {},
   "outputs": [],
   "source": []
  }
 ],
 "metadata": {
  "kernelspec": {
   "display_name": "Python 3",
   "language": "python",
   "name": "python3"
  },
  "language_info": {
   "codemirror_mode": {
    "name": "ipython",
    "version": 3
   },
   "file_extension": ".py",
   "mimetype": "text/x-python",
   "name": "python",
   "nbconvert_exporter": "python",
   "pygments_lexer": "ipython3",
   "version": "3.8.5"
  }
 },
 "nbformat": 4,
 "nbformat_minor": 4
}
