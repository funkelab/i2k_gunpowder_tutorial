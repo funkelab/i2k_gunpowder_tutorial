{
 "cells": [
  {
   "cell_type": "code",
   "execution_count": 1,
   "metadata": {},
   "outputs": [],
   "source": [
    "import gunpowder as gp\n",
    "from funlib.learn.torch.models import UNet\n",
    "\n",
    "import torch\n",
    "\n",
    "import logging\n",
    "import math"
   ]
  },
  {
   "cell_type": "code",
   "execution_count": 2,
   "metadata": {},
   "outputs": [],
   "source": [
    "logging.basicConfig(level=logging.INFO)\n",
    "\n",
    "# Constants\n",
    "num_iterations = 1_000\n",
    "snapshot_every = 500\n",
    "checkpoint_every = 500\n",
    "\n",
    "voxel_size = gp.Coordinate((4, 4, 4))\n",
    "input_shape = gp.Coordinate((76, 76, 76))\n",
    "input_size = input_shape * voxel_size\n",
    "output_shape = gp.Coordinate((36, 36, 36))\n",
    "output_size = output_shape * voxel_size\n",
    "label_proportions = [\n",
    "    (0, 0.9419152666666667),\n",
    "    (1, 0.0516876),\n",
    "    (2, 0.000764),\n",
    "    (3, 0.005633133333333333),\n",
    "]\n",
    "batch_size = 10"
   ]
  },
  {
   "cell_type": "code",
   "execution_count": 3,
   "metadata": {},
   "outputs": [
    {
     "ename": "NameError",
     "evalue": "name 'semantic_model' is not defined",
     "output_type": "error",
     "traceback": [
      "\u001b[0;31m---------------------------------------------------------------------------\u001b[0m",
      "\u001b[0;31mNameError\u001b[0m                                 Traceback (most recent call last)",
      "\u001b[0;32m<ipython-input-3-2f3b7becfc94>\u001b[0m in \u001b[0;36m<module>\u001b[0;34m\u001b[0m\n\u001b[1;32m     18\u001b[0m )\n\u001b[1;32m     19\u001b[0m \u001b[0;34m\u001b[0m\u001b[0m\n\u001b[0;32m---> 20\u001b[0;31m \u001b[0msemantic_model_optimizer\u001b[0m \u001b[0;34m=\u001b[0m \u001b[0mtorch\u001b[0m\u001b[0;34m.\u001b[0m\u001b[0moptim\u001b[0m\u001b[0;34m.\u001b[0m\u001b[0mAdam\u001b[0m\u001b[0;34m(\u001b[0m\u001b[0msemantic_model\u001b[0m\u001b[0;34m.\u001b[0m\u001b[0mparameters\u001b[0m\u001b[0;34m(\u001b[0m\u001b[0;34m)\u001b[0m\u001b[0;34m,\u001b[0m \u001b[0mlr\u001b[0m\u001b[0;34m=\u001b[0m\u001b[0;36m1e-5\u001b[0m\u001b[0;34m)\u001b[0m\u001b[0;34m\u001b[0m\u001b[0;34m\u001b[0m\u001b[0m\n\u001b[0m",
      "\u001b[0;31mNameError\u001b[0m: name 'semantic_model' is not defined"
     ]
    }
   ],
   "source": [
    "# initialize model\n",
    "unet = UNet(\n",
    "    in_channels=1,\n",
    "    num_fmaps=16,\n",
    "    fmap_inc_factor=5,\n",
    "    downsample_factors=[(2, 2, 2), (2, 2, 2)],\n",
    "    activation=\"ReLU\",\n",
    "    voxel_size=voxel_size,\n",
    "    num_heads=1,\n",
    "    constant_upsample=True,\n",
    ")\n",
    "logits = torch.nn.Conv3d(16, 4, (1,) * 3)\n",
    "\n",
    "# build your model from unet and logits using torch.nn.Sequential\n",
    "\n",
    "semantic_model_loss = torch.nn.CrossEntropyLoss(\n",
    "    weight=torch.tensor([1 / p for l, p in label_proportions])\n",
    ")\n",
    "\n",
    "semantic_model_optimizer = torch.optim.Adam(semantic_model.parameters(), lr=1e-5)"
   ]
  },
  {
   "cell_type": "code",
   "execution_count": 4,
   "metadata": {},
   "outputs": [],
   "source": [
    "# Gunpowder array keys\n",
    "raw = gp.ArrayKey(\"RAW\")\n",
    "predictions = gp.ArrayKey(\"PREDICTIONS\")\n",
    "prediction_gradients = gp.ArrayKey(\"PREDICTION_GRADIENTS\")\n",
    "labels = gp.ArrayKey(\"LABELS\")\n",
    "\n",
    "sources = tuple(\n",
    "    [\n",
    "        gp.ZarrSource(\n",
    "            # Add the filename\n",
    "            datasets={\n",
    "                raw: f\"{volume}/raw\",\n",
    "                labels: f\"{volume}/intracellular_semantic\",\n",
    "            },\n",
    "            array_specs={\n",
    "                raw: gp.ArraySpec(interpolatable=True),\n",
    "                labels: gp.ArraySpec(interpolatable=False),\n",
    "            }\n",
    "        )\n",
    "        # You need to select a random location here!\n",
    "        # Since requests come up from the bottom of the pipeline,\n",
    "        # at this point it is clear to gunpowder which volume is\n",
    "        # being requested, and thus gunpowder knows how to pick\n",
    "        # a valid location.\n",
    "        for volume in [\"A\", \"B\", \"C\"]\n",
    "    ]\n",
    ")\n",
    "pipeline = (\n",
    "    sources\n",
    "    + gp.RandomProvider()\n",
    "    + gp.Normalize(raw)\n",
    "    + gp.ElasticAugment(\n",
    "        control_point_spacing=(10, 10, 10),\n",
    "        jitter_sigma=(0.1, 0.1, 0.1),\n",
    "        rotation_interval=(0, math.pi / 2)\n",
    "    )\n",
    "    # add your simple augment here\n",
    "    # add your intensity augment here\n",
    "    + gp.PreCache()\n",
    "    # shapes:\n",
    "    # raw: [d, h, w]\n",
    "    # labels: [d, h, w]\n",
    "    + gp.Stack(batch_size)\n",
    "    # raw: [s, d, h, w] where s is the batch size\n",
    "    # labels: [s, d, h, w]\n",
    "    \n",
    "    # Add an Unsqueeze node here!\n",
    "    \n",
    "    # raw: [s, 1, d, h, w]\n",
    "    # labels: [s, 1, d, h, w]\n",
    "    + gp.torch.Train(\n",
    "        model=semantic_model,\n",
    "        loss=semantic_model_loss,\n",
    "        optimizer=semantic_model_optimizer,\n",
    "        inputs={\"input\": raw},\n",
    "        outputs={0: predictions},\n",
    "        # Define the loss inputs here!\n",
    "        gradients={0: prediction_gradients},\n",
    "        save_every=checkpoint_every,\n",
    "    )\n",
    "    + gp.Squeeze([raw], axis=1)\n",
    "    + gp.Snapshot(\n",
    "        output_filename=\"{iteration}.hdf\",\n",
    "        dataset_names={\n",
    "            raw: \"volumes/raw\",\n",
    "            labels: \"volumes/labels\",\n",
    "            predictions: \"volumes/predictions\",\n",
    "            prediction_gradients: \"volumes/prediction_gradients\",\n",
    "        },\n",
    "        every=snapshot_every,\n",
    "    )\n",
    ")\n",
    "\n",
    "request = gp.BatchRequest()\n",
    "request.add(raw, input_size)\n",
    "# add the labels to the request here!\n",
    "request.add(predictions, output_size)\n",
    "request.add(prediction_gradients, output_size)"
   ]
  },
  {
   "cell_type": "code",
   "execution_count": 5,
   "metadata": {},
   "outputs": [
    {
     "name": "stderr",
     "output_type": "stream",
     "text": [
      "INFO:gunpowder.torch.nodes.train:Starting training from scratch\n",
      "INFO:gunpowder.torch.nodes.train:Using device cuda\n",
      "INFO:gunpowder.nodes.precache:starting new set of workers (20, cache size 50)...\n",
      "INFO:gunpowder.nodes.generic_train:Train process: iteration=1 loss=1.320524 time=12.113995\n",
      "INFO:gunpowder.nodes.snapshot:saving to snapshots/1.hdf\n",
      "INFO:gunpowder.nodes.generic_train:Train process: iteration=2 loss=1.298346 time=1.801630\n",
      "INFO:gunpowder.nodes.generic_train:Train process: iteration=3 loss=1.292961 time=1.799284\n",
      "INFO:gunpowder.producer_pool:terminating workers...\n",
      "INFO:gunpowder.producer_pool:joining workers...\n",
      "INFO:gunpowder.producer_pool:done\n"
     ]
    },
    {
     "ename": "KeyboardInterrupt",
     "evalue": "",
     "output_type": "error",
     "traceback": [
      "\u001b[0;31m---------------------------------------------------------------------------\u001b[0m",
      "\u001b[0;31mKeyboardInterrupt\u001b[0m                         Traceback (most recent call last)",
      "\u001b[0;32m<ipython-input-5-d5c778302ec1>\u001b[0m in \u001b[0;36m<module>\u001b[0;34m\u001b[0m\n\u001b[1;32m      6\u001b[0m     \u001b[0;32mwith\u001b[0m \u001b[0mgp\u001b[0m\u001b[0;34m.\u001b[0m\u001b[0mbuild\u001b[0m\u001b[0;34m(\u001b[0m\u001b[0mpipeline\u001b[0m\u001b[0;34m)\u001b[0m\u001b[0;34m:\u001b[0m\u001b[0;34m\u001b[0m\u001b[0;34m\u001b[0m\u001b[0m\n\u001b[1;32m      7\u001b[0m         \u001b[0;32mfor\u001b[0m \u001b[0mi\u001b[0m \u001b[0;32min\u001b[0m \u001b[0mrange\u001b[0m\u001b[0;34m(\u001b[0m\u001b[0mnum_iterations\u001b[0m\u001b[0;34m)\u001b[0m\u001b[0;34m:\u001b[0m\u001b[0;34m\u001b[0m\u001b[0;34m\u001b[0m\u001b[0m\n\u001b[0;32m----> 8\u001b[0;31m             \u001b[0mbatch\u001b[0m \u001b[0;34m=\u001b[0m \u001b[0mpipeline\u001b[0m\u001b[0;34m.\u001b[0m\u001b[0mrequest_batch\u001b[0m\u001b[0;34m(\u001b[0m\u001b[0mrequest\u001b[0m\u001b[0;34m)\u001b[0m\u001b[0;34m\u001b[0m\u001b[0;34m\u001b[0m\u001b[0m\n\u001b[0m",
      "\u001b[0;32m~/anaconda3/envs/i2k/lib/python3.8/site-packages/gunpowder/pipeline.py\u001b[0m in \u001b[0;36mrequest_batch\u001b[0;34m(self, request)\u001b[0m\n\u001b[1;32m    138\u001b[0m \u001b[0;34m\u001b[0m\u001b[0m\n\u001b[1;32m    139\u001b[0m         \u001b[0;32mtry\u001b[0m\u001b[0;34m:\u001b[0m\u001b[0;34m\u001b[0m\u001b[0;34m\u001b[0m\u001b[0m\n\u001b[0;32m--> 140\u001b[0;31m             \u001b[0;32mreturn\u001b[0m \u001b[0mself\u001b[0m\u001b[0;34m.\u001b[0m\u001b[0moutput\u001b[0m\u001b[0;34m.\u001b[0m\u001b[0mrequest_batch\u001b[0m\u001b[0;34m(\u001b[0m\u001b[0mrequest\u001b[0m\u001b[0;34m)\u001b[0m\u001b[0;34m\u001b[0m\u001b[0;34m\u001b[0m\u001b[0m\n\u001b[0m\u001b[1;32m    141\u001b[0m         \u001b[0;32mexcept\u001b[0m \u001b[0mException\u001b[0m \u001b[0;32mas\u001b[0m \u001b[0me\u001b[0m\u001b[0;34m:\u001b[0m\u001b[0;34m\u001b[0m\u001b[0;34m\u001b[0m\u001b[0m\n\u001b[1;32m    142\u001b[0m             \u001b[0;32mraise\u001b[0m \u001b[0mPipelineRequestError\u001b[0m\u001b[0;34m(\u001b[0m\u001b[0mself\u001b[0m\u001b[0;34m,\u001b[0m \u001b[0mrequest\u001b[0m\u001b[0;34m)\u001b[0m \u001b[0;32mfrom\u001b[0m \u001b[0me\u001b[0m\u001b[0;34m\u001b[0m\u001b[0;34m\u001b[0m\u001b[0m\n",
      "\u001b[0;32m~/anaconda3/envs/i2k/lib/python3.8/site-packages/gunpowder/nodes/batch_provider.py\u001b[0m in \u001b[0;36mrequest_batch\u001b[0;34m(self, request)\u001b[0m\n\u001b[1;32m    186\u001b[0m             \u001b[0;32mif\u001b[0m \u001b[0mself\u001b[0m\u001b[0;34m.\u001b[0m\u001b[0mremove_placeholders\u001b[0m\u001b[0;34m:\u001b[0m\u001b[0;34m\u001b[0m\u001b[0;34m\u001b[0m\u001b[0m\n\u001b[1;32m    187\u001b[0m                 \u001b[0mupstream_request\u001b[0m\u001b[0;34m.\u001b[0m\u001b[0mremove_placeholders\u001b[0m\u001b[0;34m(\u001b[0m\u001b[0;34m)\u001b[0m\u001b[0;34m\u001b[0m\u001b[0;34m\u001b[0m\u001b[0m\n\u001b[0;32m--> 188\u001b[0;31m             \u001b[0mbatch\u001b[0m \u001b[0;34m=\u001b[0m \u001b[0mself\u001b[0m\u001b[0;34m.\u001b[0m\u001b[0mprovide\u001b[0m\u001b[0;34m(\u001b[0m\u001b[0mupstream_request\u001b[0m\u001b[0;34m)\u001b[0m\u001b[0;34m\u001b[0m\u001b[0;34m\u001b[0m\u001b[0m\n\u001b[0m\u001b[1;32m    189\u001b[0m \u001b[0;34m\u001b[0m\u001b[0m\n\u001b[1;32m    190\u001b[0m             \u001b[0mrequest\u001b[0m\u001b[0;34m.\u001b[0m\u001b[0mremove_placeholders\u001b[0m\u001b[0;34m(\u001b[0m\u001b[0;34m)\u001b[0m\u001b[0;34m\u001b[0m\u001b[0;34m\u001b[0m\u001b[0m\n",
      "\u001b[0;32m~/anaconda3/envs/i2k/lib/python3.8/site-packages/gunpowder/nodes/batch_filter.py\u001b[0m in \u001b[0;36mprovide\u001b[0;34m(self, request)\u001b[0m\n\u001b[1;32m    168\u001b[0m         \u001b[0mtiming_prepare\u001b[0m\u001b[0;34m.\u001b[0m\u001b[0mstop\u001b[0m\u001b[0;34m(\u001b[0m\u001b[0;34m)\u001b[0m\u001b[0;34m\u001b[0m\u001b[0;34m\u001b[0m\u001b[0m\n\u001b[1;32m    169\u001b[0m \u001b[0;34m\u001b[0m\u001b[0m\n\u001b[0;32m--> 170\u001b[0;31m         \u001b[0mbatch\u001b[0m \u001b[0;34m=\u001b[0m \u001b[0mself\u001b[0m\u001b[0;34m.\u001b[0m\u001b[0mget_upstream_provider\u001b[0m\u001b[0;34m(\u001b[0m\u001b[0;34m)\u001b[0m\u001b[0;34m.\u001b[0m\u001b[0mrequest_batch\u001b[0m\u001b[0;34m(\u001b[0m\u001b[0mupstream_request\u001b[0m\u001b[0;34m)\u001b[0m\u001b[0;34m\u001b[0m\u001b[0;34m\u001b[0m\u001b[0m\n\u001b[0m\u001b[1;32m    171\u001b[0m \u001b[0;34m\u001b[0m\u001b[0m\n\u001b[1;32m    172\u001b[0m         \u001b[0mtiming_process\u001b[0m \u001b[0;34m=\u001b[0m \u001b[0mTiming\u001b[0m\u001b[0;34m(\u001b[0m\u001b[0mself\u001b[0m\u001b[0;34m,\u001b[0m \u001b[0;34m\"process\"\u001b[0m\u001b[0;34m)\u001b[0m\u001b[0;34m\u001b[0m\u001b[0;34m\u001b[0m\u001b[0m\n",
      "\u001b[0;32m~/anaconda3/envs/i2k/lib/python3.8/site-packages/gunpowder/nodes/batch_provider.py\u001b[0m in \u001b[0;36mrequest_batch\u001b[0;34m(self, request)\u001b[0m\n\u001b[1;32m    186\u001b[0m             \u001b[0;32mif\u001b[0m \u001b[0mself\u001b[0m\u001b[0;34m.\u001b[0m\u001b[0mremove_placeholders\u001b[0m\u001b[0;34m:\u001b[0m\u001b[0;34m\u001b[0m\u001b[0;34m\u001b[0m\u001b[0m\n\u001b[1;32m    187\u001b[0m                 \u001b[0mupstream_request\u001b[0m\u001b[0;34m.\u001b[0m\u001b[0mremove_placeholders\u001b[0m\u001b[0;34m(\u001b[0m\u001b[0;34m)\u001b[0m\u001b[0;34m\u001b[0m\u001b[0;34m\u001b[0m\u001b[0m\n\u001b[0;32m--> 188\u001b[0;31m             \u001b[0mbatch\u001b[0m \u001b[0;34m=\u001b[0m \u001b[0mself\u001b[0m\u001b[0;34m.\u001b[0m\u001b[0mprovide\u001b[0m\u001b[0;34m(\u001b[0m\u001b[0mupstream_request\u001b[0m\u001b[0;34m)\u001b[0m\u001b[0;34m\u001b[0m\u001b[0;34m\u001b[0m\u001b[0m\n\u001b[0m\u001b[1;32m    189\u001b[0m \u001b[0;34m\u001b[0m\u001b[0m\n\u001b[1;32m    190\u001b[0m             \u001b[0mrequest\u001b[0m\u001b[0;34m.\u001b[0m\u001b[0mremove_placeholders\u001b[0m\u001b[0;34m(\u001b[0m\u001b[0;34m)\u001b[0m\u001b[0;34m\u001b[0m\u001b[0;34m\u001b[0m\u001b[0m\n",
      "\u001b[0;32m~/anaconda3/envs/i2k/lib/python3.8/site-packages/gunpowder/nodes/batch_filter.py\u001b[0m in \u001b[0;36mprovide\u001b[0;34m(self, request)\u001b[0m\n\u001b[1;32m    168\u001b[0m         \u001b[0mtiming_prepare\u001b[0m\u001b[0;34m.\u001b[0m\u001b[0mstop\u001b[0m\u001b[0;34m(\u001b[0m\u001b[0;34m)\u001b[0m\u001b[0;34m\u001b[0m\u001b[0;34m\u001b[0m\u001b[0m\n\u001b[1;32m    169\u001b[0m \u001b[0;34m\u001b[0m\u001b[0m\n\u001b[0;32m--> 170\u001b[0;31m         \u001b[0mbatch\u001b[0m \u001b[0;34m=\u001b[0m \u001b[0mself\u001b[0m\u001b[0;34m.\u001b[0m\u001b[0mget_upstream_provider\u001b[0m\u001b[0;34m(\u001b[0m\u001b[0;34m)\u001b[0m\u001b[0;34m.\u001b[0m\u001b[0mrequest_batch\u001b[0m\u001b[0;34m(\u001b[0m\u001b[0mupstream_request\u001b[0m\u001b[0;34m)\u001b[0m\u001b[0;34m\u001b[0m\u001b[0;34m\u001b[0m\u001b[0m\n\u001b[0m\u001b[1;32m    171\u001b[0m \u001b[0;34m\u001b[0m\u001b[0m\n\u001b[1;32m    172\u001b[0m         \u001b[0mtiming_process\u001b[0m \u001b[0;34m=\u001b[0m \u001b[0mTiming\u001b[0m\u001b[0;34m(\u001b[0m\u001b[0mself\u001b[0m\u001b[0;34m,\u001b[0m \u001b[0;34m\"process\"\u001b[0m\u001b[0;34m)\u001b[0m\u001b[0;34m\u001b[0m\u001b[0;34m\u001b[0m\u001b[0m\n",
      "\u001b[0;32m~/anaconda3/envs/i2k/lib/python3.8/site-packages/gunpowder/nodes/batch_provider.py\u001b[0m in \u001b[0;36mrequest_batch\u001b[0;34m(self, request)\u001b[0m\n\u001b[1;32m    186\u001b[0m             \u001b[0;32mif\u001b[0m \u001b[0mself\u001b[0m\u001b[0;34m.\u001b[0m\u001b[0mremove_placeholders\u001b[0m\u001b[0;34m:\u001b[0m\u001b[0;34m\u001b[0m\u001b[0;34m\u001b[0m\u001b[0m\n\u001b[1;32m    187\u001b[0m                 \u001b[0mupstream_request\u001b[0m\u001b[0;34m.\u001b[0m\u001b[0mremove_placeholders\u001b[0m\u001b[0;34m(\u001b[0m\u001b[0;34m)\u001b[0m\u001b[0;34m\u001b[0m\u001b[0;34m\u001b[0m\u001b[0m\n\u001b[0;32m--> 188\u001b[0;31m             \u001b[0mbatch\u001b[0m \u001b[0;34m=\u001b[0m \u001b[0mself\u001b[0m\u001b[0;34m.\u001b[0m\u001b[0mprovide\u001b[0m\u001b[0;34m(\u001b[0m\u001b[0mupstream_request\u001b[0m\u001b[0;34m)\u001b[0m\u001b[0;34m\u001b[0m\u001b[0;34m\u001b[0m\u001b[0m\n\u001b[0m\u001b[1;32m    189\u001b[0m \u001b[0;34m\u001b[0m\u001b[0m\n\u001b[1;32m    190\u001b[0m             \u001b[0mrequest\u001b[0m\u001b[0;34m.\u001b[0m\u001b[0mremove_placeholders\u001b[0m\u001b[0;34m(\u001b[0m\u001b[0;34m)\u001b[0m\u001b[0;34m\u001b[0m\u001b[0;34m\u001b[0m\u001b[0m\n",
      "\u001b[0;32m~/anaconda3/envs/i2k/lib/python3.8/site-packages/gunpowder/nodes/batch_filter.py\u001b[0m in \u001b[0;36mprovide\u001b[0;34m(self, request)\u001b[0m\n\u001b[1;32m    180\u001b[0m                 \u001b[0mnode_batch\u001b[0m \u001b[0;34m=\u001b[0m \u001b[0mbatch\u001b[0m\u001b[0;34m\u001b[0m\u001b[0;34m\u001b[0m\u001b[0m\n\u001b[1;32m    181\u001b[0m             \u001b[0mdownstream_request\u001b[0m\u001b[0;34m.\u001b[0m\u001b[0mremove_placeholders\u001b[0m\u001b[0;34m(\u001b[0m\u001b[0;34m)\u001b[0m\u001b[0;34m\u001b[0m\u001b[0;34m\u001b[0m\u001b[0m\n\u001b[0;32m--> 182\u001b[0;31m             \u001b[0mprocessed_batch\u001b[0m \u001b[0;34m=\u001b[0m \u001b[0mself\u001b[0m\u001b[0;34m.\u001b[0m\u001b[0mprocess\u001b[0m\u001b[0;34m(\u001b[0m\u001b[0mnode_batch\u001b[0m\u001b[0;34m,\u001b[0m \u001b[0mdownstream_request\u001b[0m\u001b[0;34m)\u001b[0m\u001b[0;34m\u001b[0m\u001b[0;34m\u001b[0m\u001b[0m\n\u001b[0m\u001b[1;32m    183\u001b[0m             \u001b[0;32mif\u001b[0m \u001b[0mprocessed_batch\u001b[0m \u001b[0;32mis\u001b[0m \u001b[0;32mNone\u001b[0m\u001b[0;34m:\u001b[0m\u001b[0;34m\u001b[0m\u001b[0;34m\u001b[0m\u001b[0m\n\u001b[1;32m    184\u001b[0m                 \u001b[0mprocessed_batch\u001b[0m \u001b[0;34m=\u001b[0m \u001b[0mnode_batch\u001b[0m\u001b[0;34m\u001b[0m\u001b[0;34m\u001b[0m\u001b[0m\n",
      "\u001b[0;32m~/anaconda3/envs/i2k/lib/python3.8/site-packages/gunpowder/nodes/generic_train.py\u001b[0m in \u001b[0;36mprocess\u001b[0;34m(self, batch, request)\u001b[0m\n\u001b[1;32m    155\u001b[0m         \u001b[0;32melse\u001b[0m\u001b[0;34m:\u001b[0m\u001b[0;34m\u001b[0m\u001b[0;34m\u001b[0m\u001b[0m\n\u001b[1;32m    156\u001b[0m \u001b[0;34m\u001b[0m\u001b[0m\n\u001b[0;32m--> 157\u001b[0;31m             \u001b[0mself\u001b[0m\u001b[0;34m.\u001b[0m\u001b[0mtrain_step\u001b[0m\u001b[0;34m(\u001b[0m\u001b[0mbatch\u001b[0m\u001b[0;34m,\u001b[0m \u001b[0mrequest\u001b[0m\u001b[0;34m)\u001b[0m\u001b[0;34m\u001b[0m\u001b[0;34m\u001b[0m\u001b[0m\n\u001b[0m\u001b[1;32m    158\u001b[0m \u001b[0;34m\u001b[0m\u001b[0m\n\u001b[1;32m    159\u001b[0m         \u001b[0mtime_of_iteration\u001b[0m \u001b[0;34m=\u001b[0m \u001b[0mtime\u001b[0m\u001b[0;34m.\u001b[0m\u001b[0mtime\u001b[0m\u001b[0;34m(\u001b[0m\u001b[0;34m)\u001b[0m \u001b[0;34m-\u001b[0m \u001b[0mstart\u001b[0m\u001b[0;34m\u001b[0m\u001b[0;34m\u001b[0m\u001b[0m\n",
      "\u001b[0;32m~/anaconda3/envs/i2k/lib/python3.8/site-packages/gunpowder/torch/nodes/train.py\u001b[0m in \u001b[0;36mtrain_step\u001b[0;34m(self, batch, request)\u001b[0m\n\u001b[1;32m    263\u001b[0m             \u001b[0mspec\u001b[0m\u001b[0;34m.\u001b[0m\u001b[0mroi\u001b[0m \u001b[0;34m=\u001b[0m \u001b[0mrequest\u001b[0m\u001b[0;34m[\u001b[0m\u001b[0marray_key\u001b[0m\u001b[0;34m]\u001b[0m\u001b[0;34m.\u001b[0m\u001b[0mroi\u001b[0m\u001b[0;34m\u001b[0m\u001b[0;34m\u001b[0m\u001b[0m\n\u001b[1;32m    264\u001b[0m             batch.arrays[array_key] = Array(\n\u001b[0;32m--> 265\u001b[0;31m                 \u001b[0moutputs\u001b[0m\u001b[0;34m[\u001b[0m\u001b[0marray_name\u001b[0m\u001b[0;34m]\u001b[0m\u001b[0;34m.\u001b[0m\u001b[0mcpu\u001b[0m\u001b[0;34m(\u001b[0m\u001b[0;34m)\u001b[0m\u001b[0;34m.\u001b[0m\u001b[0mdetach\u001b[0m\u001b[0;34m(\u001b[0m\u001b[0;34m)\u001b[0m\u001b[0;34m.\u001b[0m\u001b[0mnumpy\u001b[0m\u001b[0;34m(\u001b[0m\u001b[0;34m)\u001b[0m\u001b[0;34m,\u001b[0m \u001b[0mspec\u001b[0m\u001b[0;34m\u001b[0m\u001b[0;34m\u001b[0m\u001b[0m\n\u001b[0m\u001b[1;32m    266\u001b[0m             )\n\u001b[1;32m    267\u001b[0m \u001b[0;34m\u001b[0m\u001b[0m\n",
      "\u001b[0;31mKeyboardInterrupt\u001b[0m: "
     ]
    }
   ],
   "source": [
    "torch.backends.cudnn.enabled = True\n",
    "torch.backends.cudnn.benchmark = True\n",
    "\n",
    "# main loop\n",
    "if __name__ == \"__main__\":\n",
    "    with gp.build(pipeline):\n",
    "        for i in range(num_iterations):\n",
    "            batch = pipeline.request_batch(request)"
   ]
  }
 ],
 "metadata": {
  "kernelspec": {
   "display_name": "Python 3",
   "language": "python",
   "name": "python3"
  },
  "language_info": {
   "codemirror_mode": {
    "name": "ipython",
    "version": 3
   },
   "file_extension": ".py",
   "mimetype": "text/x-python",
   "name": "python",
   "nbconvert_exporter": "python",
   "pygments_lexer": "ipython3",
   "version": "3.8.5"
  }
 },
 "nbformat": 4,
 "nbformat_minor": 4
}
